{
 "cells": [
  {
   "cell_type": "code",
   "execution_count": 1,
   "metadata": {},
   "outputs": [],
   "source": [
    "# Dependencies and Setup\n",
    "import matplotlib.pyplot as plt\n",
    "import pandas as pd\n",
    "import scipy.stats as st\n",
    "from pathlib import Path"
   ]
  },
  {
   "cell_type": "code",
   "execution_count": 2,
   "metadata": {},
   "outputs": [],
   "source": [
    "# File paths for loading\n",
    "GDP_data_to_load = Path(\"data/GDP.csv\")\n",
    "particle_data_to_load = Path(\"data/part-con.csv\")\n",
    "lung_data_to_load = Path(\"data/dataset-cumulative-risk-in-percentage-inc-males-and-females-age-0-74-lung.csv\")\n",
    "melanoma_data_to_load = Path(\"data/dataset-cumulative-risk-in-percentage-inc-males-and-females-age-0-74-2000-2018-melanoma-of-skin.csv\")\n"
   ]
  },
  {
   "cell_type": "code",
   "execution_count": 12,
   "metadata": {},
   "outputs": [],
   "source": [
    "# Read and clean particle data\n",
    "particle_data = pd.read_csv(particle_data_to_load)\n",
    "\n",
    "particle_keep_columns = [\"Location\", \"Period\", \"Dim1\", \"FactValueNumeric\", \"FactValueNumericLow\",\n",
    "                          \"FactValueNumericHigh\"]\n",
    "particle_data = particle_data[particle_keep_columns]\n",
    "particle_data = particle_data.rename(columns={\n",
    "    \"Location\": \"Country\",\n",
    "    \"Period\": \"Year\",\n",
    "    \"Dim1\": \"Area Type\",\n",
    "    \"FactValueNumeric\": \"Average Weighted Concentration\",\n",
    "    \"FactValueNumericLow\": \"Low Concetration\",\n",
    "    \"FactValueNumericHigh\": \"High Concentration\"\n",
    "})"
   ]
  },
  {
   "cell_type": "code",
   "execution_count": 4,
   "metadata": {},
   "outputs": [],
   "source": [
    "# Clean GDP_data\n",
    "GDP_data = pd.read_csv(GDP_data_to_load)\n",
    "# drop empty columns and columns with repititious and useless values\n",
    "gdp_drop_columns = [\"GDP\", \"Scale\", \"Base Year\"]\n",
    "GDP_data = GDP_data.drop(columns=gdp_drop_columns)\n",
    "\n",
    "GDP_data[\"Average GDP\"] = \"\"\n",
    "\n",
    "years = [\"2017\", \"2018\", \"2019\", \"2020\", \"2021\", \"2022\"]\n",
    "for index, row in GDP_data.iterrows():\n",
    "    num_elems = 0\n",
    "    total = 0\n",
    "    for y in years:\n",
    "        if row[y] != \"...\":\n",
    "            num_elems += 1\n",
    "            parts = row[y].split(',')\n",
    "            comb_str = \"\"\n",
    "            for p in parts:\n",
    "                comb_str += p\n",
    "            total += float(comb_str)\n",
    "    row[\"Average GDP\"] = round(total/float(num_elems), 2)\n"
   ]
  },
  {
   "cell_type": "code",
   "execution_count": 5,
   "metadata": {},
   "outputs": [],
   "source": [
    "# Make function for cleaning cancer data\n",
    "def clean_cancer_data(df):\n",
    "    drop_cols = [\"Cancer id\", \"Cancer label\", \"Population id\"]\n",
    "    rename_dict = {\"Country label\": \"Country\"}\n",
    "    clean_df = df.drop(columns=drop_cols)\n",
    "    clean_df = clean_df.rename(columns=rename_dict)\n",
    "    clean_df[\"Sex\"] = clean_df[\"Sex\"].replace(1, \"Male\")\n",
    "    clean_df[\"Sex\"] = clean_df[\"Sex\"].replace(2, \"Female\")\n",
    "    return clean_df\n",
    "\n",
    "# Load and clean skin and lung cancer data\n",
    "lung_data = pd.read_csv(lung_data_to_load)\n",
    "melanoma_data = pd.read_csv(melanoma_data_to_load)\n",
    "\n",
    "lung_data = clean_cancer_data(lung_data)\n",
    "melanoma_data = clean_cancer_data(melanoma_data)"
   ]
  },
  {
   "cell_type": "code",
   "execution_count": null,
   "metadata": {},
   "outputs": [],
   "source": [
    "# Find the Countries that have data in all files (ex. US, Germany, Norway, etc.) and rank them from highest GDP to lower GDP?\n",
    "\n",
    "#create a bar chart\n"
   ]
  },
  {
   "cell_type": "code",
   "execution_count": null,
   "metadata": {},
   "outputs": [],
   "source": [
    "# find the countries with the highest polution indices\n",
    "\n",
    "#create a bar chart\n"
   ]
  },
  {
   "cell_type": "code",
   "execution_count": null,
   "metadata": {},
   "outputs": [],
   "source": [
    "# create a scatter plot with and GDP (Y) and pollution level (X)\n",
    "\n",
    "# run a regression line"
   ]
  },
  {
   "cell_type": "code",
   "execution_count": null,
   "metadata": {},
   "outputs": [],
   "source": [
    "# Find the number of lung cancer victims for our Countries sample\n",
    "\n",
    "# Creat a bar chart that reflects number lung cancer victims per country and their GDP and pollution level"
   ]
  },
  {
   "cell_type": "code",
   "execution_count": null,
   "metadata": {},
   "outputs": [],
   "source": [
    "# Find the number of melanoma cancer victims for our Countries sample\n",
    "\n",
    "# Creat a bar chart\n",
    "\n",
    "# Creat a bar chart that reflects number of melanoma victims per country and their GDP and pollution level\n"
   ]
  }
 ],
 "metadata": {
  "kernelspec": {
   "display_name": "base",
   "language": "python",
   "name": "python3"
  },
  "language_info": {
   "codemirror_mode": {
    "name": "ipython",
    "version": 3
   },
   "file_extension": ".py",
   "mimetype": "text/x-python",
   "name": "python",
   "nbconvert_exporter": "python",
   "pygments_lexer": "ipython3",
   "version": "3.10.9"
  },
  "orig_nbformat": 4
 },
 "nbformat": 4,
 "nbformat_minor": 2
}
